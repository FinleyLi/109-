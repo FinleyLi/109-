{
 "cells": [
  {
   "cell_type": "code",
   "execution_count": 1,
   "metadata": {},
   "outputs": [
    {
     "name": "stdout",
     "output_type": "stream",
     "text": [
      "Requirement already satisfied: gTTS in c:\\programdata\\anaconda3\\lib\\site-packages (2.2.1)\n",
      "Requirement already satisfied: six in c:\\programdata\\anaconda3\\lib\\site-packages (from gTTS) (1.15.0)\n",
      "Requirement already satisfied: click in c:\\programdata\\anaconda3\\lib\\site-packages (from gTTS) (7.1.2)\n",
      "Requirement already satisfied: requests in c:\\programdata\\anaconda3\\lib\\site-packages (from gTTS) (2.24.0)\n",
      "Requirement already satisfied: certifi>=2017.4.17 in c:\\programdata\\anaconda3\\lib\\site-packages (from requests->gTTS) (2020.6.20)\n",
      "Requirement already satisfied: chardet<4,>=3.0.2 in c:\\programdata\\anaconda3\\lib\\site-packages (from requests->gTTS) (3.0.4)\n",
      "Requirement already satisfied: urllib3!=1.25.0,!=1.25.1,<1.26,>=1.21.1 in c:\\programdata\\anaconda3\\lib\\site-packages (from requests->gTTS) (1.25.9)\n",
      "Requirement already satisfied: idna<3,>=2.5 in c:\\programdata\\anaconda3\\lib\\site-packages (from requests->gTTS) (2.10)\n"
     ]
    }
   ],
   "source": [
    "!pip3 install gTTS"
   ]
  },
  {
   "cell_type": "markdown",
   "metadata": {},
   "source": [
    "from gtts import gTTS\n",
    "import os\n",
    "tts = gTTS(text='Good morning', lang='en')\n",
    "tts.save(\"good.mp3\")"
   ]
  },
  {
   "cell_type": "markdown",
   "metadata": {},
   "source": [
    "from gtts import gTTS\n",
    "tts=gTTS(text='輔導學生取得國家級技術士檢定證照與就業之實力。', lang='zh-TW')\n",
    "tts.save(\"TSH-sd.mp3\")"
   ]
  },
  {
   "cell_type": "markdown",
   "metadata": {},
   "source": [
    "from gtts import gTTS\n",
    "tts=gTTS(text='ありがとう', lang='ja')\n",
    "tts.save(\"japanese_thank_you.mp3\")"
   ]
  },
  {
   "cell_type": "code",
   "execution_count": 2,
   "metadata": {},
   "outputs": [
    {
     "name": "stdout",
     "output_type": "stream",
     "text": [
      "Requirement already satisfied: PySimpleGUI in c:\\programdata\\anaconda3\\lib\\site-packages (4.32.1)\n"
     ]
    }
   ],
   "source": [
    "!pip install PySimpleGUI"
   ]
  },
  {
   "cell_type": "code",
   "execution_count": 4,
   "metadata": {},
   "outputs": [],
   "source": [
    "# https://pypi.org/project/PySimpleGUI/\n",
    "import PySimpleGUI as sg\n",
    "from gtts import gTTS\n",
    "\n",
    "# Define the window's contents\n",
    "layout = [[sg.Text(\"請輸入想要轉換的文字?\")],\n",
    "          [sg.Input(key='-INPUT-')],\n",
    "          [sg.Text(\"語言\"), sg.Combo(['en', 'zh-TW', 'ja'], key='combo')],\n",
    "          [sg.Text(size=(40,1), key='-OUTPUT-')],\n",
    "          [sg.Button('Ok'), sg.Button('Quit')]]\n",
    "\n",
    "# Create the window\n",
    "window = sg.Window('資料處理科多媒體製作_文字轉語音', layout)\n",
    "\n",
    "# Display and interact with the Window using an Event Loop\n",
    "while True:\n",
    "    event, values = window.read()\n",
    "    # See if user wants to quit or window was closed\n",
    "    if event == sg.WINDOW_CLOSED or event == 'Quit':\n",
    "        break\n",
    "    # Output a message to the window\n",
    "    # ------  gTTS  ------ #\n",
    "    tts = gTTS(text=values['-INPUT-'], lang=values['combo'])\n",
    "    tts.save(\"good.mp3\")\n",
    "    # ------gTTS end------ #\n",
    "    window['-OUTPUT-'].update('gTTS: ' + values['-INPUT-'] + \"! Thanks for trying PySimpleGUI\")\n",
    "\n",
    "# Finish up by removing from the screen\n",
    "window.close()"
   ]
  },
  {
   "cell_type": "code",
   "execution_count": null,
   "metadata": {},
   "outputs": [],
   "source": []
  },
  {
   "cell_type": "code",
   "execution_count": null,
   "metadata": {},
   "outputs": [],
   "source": []
  }
 ],
 "metadata": {
  "kernelspec": {
   "display_name": "Python 3",
   "language": "python",
   "name": "python3"
  },
  "language_info": {
   "codemirror_mode": {
    "name": "ipython",
    "version": 3
   },
   "file_extension": ".py",
   "mimetype": "text/x-python",
   "name": "python",
   "nbconvert_exporter": "python",
   "pygments_lexer": "ipython3",
   "version": "3.8.3"
  }
 },
 "nbformat": 4,
 "nbformat_minor": 4
}

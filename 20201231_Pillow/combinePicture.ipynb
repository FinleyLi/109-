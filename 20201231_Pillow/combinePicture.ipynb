{
 "cells": [
  {
   "cell_type": "code",
   "execution_count": null,
   "metadata": {},
   "outputs": [],
   "source": [
    "!pip install Pillow"
   ]
  },
  {
   "cell_type": "code",
   "execution_count": null,
   "metadata": {},
   "outputs": [],
   "source": [
    "# -*- coding: utf-8 -*-\n",
    "from PIL import Image\n",
    "\n",
    "image = Image.open('input.jpg')\n",
    "image = image.convert('RGBA')\n",
    "print(image.mode)\n",
    "\n",
    "\n",
    "# Transparency\n",
    "newImage = []\n",
    "for item in image.getdata():\n",
    "    if item[:3] == (255, 255, 255):\n",
    "        newImage.append((255, 255, 255, 0))\n",
    "    else:\n",
    "        newImage.append(item)\n",
    "\n",
    "image.putdata(newImage)\n",
    "\n",
    "\n",
    "image.save('output.png')\n",
    "print(image.mode, image.size)"
   ]
  }
 ],
 "metadata": {
  "kernelspec": {
   "display_name": "Python 3",
   "language": "python",
   "name": "python3"
  },
  "language_info": {
   "codemirror_mode": {
    "name": "ipython",
    "version": 3
   },
   "file_extension": ".py",
   "mimetype": "text/x-python",
   "name": "python",
   "nbconvert_exporter": "python",
   "pygments_lexer": "ipython3",
   "version": "3.8.3"
  }
 },
 "nbformat": 4,
 "nbformat_minor": 4
}

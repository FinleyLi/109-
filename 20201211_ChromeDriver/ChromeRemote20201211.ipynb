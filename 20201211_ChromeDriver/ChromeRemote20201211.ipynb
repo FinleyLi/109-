{
 "cells": [
  {
   "cell_type": "code",
   "execution_count": null,
   "metadata": {},
   "outputs": [],
   "source": [
    "'''\n",
    "引入外部exe檔案遙控chrome瀏覽器\n",
    "https://chromedriver.chromium.org/\n",
    "https://tohtml.com/python/\n",
    "'''"
   ]
  },
  {
   "cell_type": "code",
   "execution_count": 2,
   "metadata": {},
   "outputs": [
    {
     "name": "stdout",
     "output_type": "stream",
     "text": [
      "Collecting selenium\n",
      "  Downloading selenium-3.141.0-py2.py3-none-any.whl (904 kB)\n",
      "Requirement already satisfied: urllib3 in c:\\programdata\\anaconda3\\lib\\site-packages (from selenium) (1.25.9)\n",
      "Installing collected packages: selenium\n",
      "Successfully installed selenium-3.141.0\n"
     ]
    }
   ],
   "source": [
    "# 安裝selenium\n",
    "!pip install selenium"
   ]
  },
  {
   "cell_type": "code",
   "execution_count": 12,
   "metadata": {},
   "outputs": [
    {
     "data": {
      "text/plain": [
       "True"
      ]
     },
     "execution_count": 12,
     "metadata": {},
     "output_type": "execute_result"
    }
   ],
   "source": [
    "# 引入selenium涵式庫\n",
    "from selenium import webdriver\n",
    "\n",
    "# 引入webdriver驅動程式\n",
    "Browser = webdriver.Chrome()\n",
    "\n",
    "# 設定登入的網頁及帳號密碼\n",
    "WebUrl = ('https://member.ithome.com.tw/login')\n",
    "UserName = ('HK3345678')\n",
    "UserPass = ('9527')\n",
    "\n",
    "# 開啟瀏覽器填入帳號密碼後截圖\n",
    "Browser.get(WebUrl)\n",
    "Browser.find_element_by_id('account').send_keys(UserName)\n",
    "Browser.find_element_by_id('password').send_keys(UserPass)\n",
    "#Browser.find_element_by_id('password').send_keys(Keys.ENTER)\n",
    "Browser.save_screenshot('ithome_login.png')\n",
    "Browser.quit()"
   ]
  },
  {
   "cell_type": "code",
   "execution_count": null,
   "metadata": {},
   "outputs": [],
   "source": []
  }
 ],
 "metadata": {
  "kernelspec": {
   "display_name": "Python 3",
   "language": "python",
   "name": "python3"
  },
  "language_info": {
   "codemirror_mode": {
    "name": "ipython",
    "version": 3
   },
   "file_extension": ".py",
   "mimetype": "text/x-python",
   "name": "python",
   "nbconvert_exporter": "python",
   "pygments_lexer": "ipython3",
   "version": "3.8.3"
  }
 },
 "nbformat": 4,
 "nbformat_minor": 4
}

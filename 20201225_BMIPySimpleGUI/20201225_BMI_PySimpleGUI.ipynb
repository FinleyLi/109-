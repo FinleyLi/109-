{
 "cells": [
  {
   "cell_type": "code",
   "execution_count": null,
   "metadata": {},
   "outputs": [],
   "source": [
    "!pip install PySimpleGUI"
   ]
  },
  {
   "cell_type": "code",
   "execution_count": 12,
   "metadata": {},
   "outputs": [],
   "source": [
    "# https://pypi.org/project/PySimpleGUI/\n",
    "import PySimpleGUI as sg\n",
    "\n",
    "# Define the window's contents\n",
    "layout = [[sg.Text(\"請輸入體重( 公斤)\")],\n",
    "          [sg.Input(key='-INPUT-kg')],\n",
    "          [sg.Text(\"請輸入身高( 公分)\")],\n",
    "          [sg.Input(key='-INPUT-cm')],\n",
    "          #[sg.Text(\"語言\"), sg.Combo(['en', 'zh-TW', 'ja'], key='combo')],\n",
    "          [sg.Text(size=(40,1), key='-OUTPUT-')],\n",
    "          [sg.Button('Ok'), sg.Button('Quit')]]\n",
    "\n",
    "# Create the window\n",
    "window = sg.Window('資料處理科_身體質量指數', layout)\n",
    "\n",
    "# Display and interact with the Window using an Event Loop\n",
    "while True:\n",
    "    event, values = window.read()\n",
    "    # See if user wants to quit or window was closed\n",
    "    if event == sg.WINDOW_CLOSED or event == 'Quit':\n",
    "        break\n",
    "        \n",
    "    # Output a message to the window\n",
    "    # ------  BMI  ------ #\n",
    "    Weight_kg = float(values['-INPUT-kg'])\n",
    "    Height_m = float(values['-INPUT-cm'])/100\n",
    "    BMI = Weight_kg / (Height_m ** 2)\n",
    "    # ------ judge ------ #\n",
    "    if BMI < 18.5:\n",
    "        text = \" 體重過輕\"\n",
    "    elif BMI < 24:\n",
    "        text = \" 標準體重\"\n",
    "    elif BMI < 27:\n",
    "        text = \" 體重過重\"\n",
    "    else:\n",
    "        text = \" 肥胖\"\n",
    "    # -----judge end----- #\n",
    "    rate = f'BMI: {BMI}, 表示{text}'\n",
    "    # ------BMI end------ #\n",
    "    \n",
    "    window['-OUTPUT-'].update(rate)\n",
    "\n",
    "# Finish up by removing from the screen\n",
    "window.close()"
   ]
  },
  {
   "cell_type": "code",
   "execution_count": null,
   "metadata": {},
   "outputs": [],
   "source": []
  },
  {
   "cell_type": "code",
   "execution_count": null,
   "metadata": {},
   "outputs": [],
   "source": []
  }
 ],
 "metadata": {
  "kernelspec": {
   "display_name": "Python 3",
   "language": "python",
   "name": "python3"
  },
  "language_info": {
   "codemirror_mode": {
    "name": "ipython",
    "version": 3
   },
   "file_extension": ".py",
   "mimetype": "text/x-python",
   "name": "python",
   "nbconvert_exporter": "python",
   "pygments_lexer": "ipython3",
   "version": "3.8.3"
  }
 },
 "nbformat": 4,
 "nbformat_minor": 4
}

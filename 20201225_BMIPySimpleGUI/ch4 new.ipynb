{
 "cells": [
  {
   "cell_type": "markdown",
   "metadata": {},
   "source": [
    "# 範例 4-4"
   ]
  },
  {
   "cell_type": "code",
   "execution_count": 1,
   "metadata": {},
   "outputs": [
    {
     "name": "stdout",
     "output_type": "stream",
     "text": [
      " 請輸入舊匯率 = 30\n",
      " 請輸入新匯率 = 35\n"
     ]
    }
   ],
   "source": [
    "Old_Rate = int(input(\" 請輸入舊匯率 = \"))\n",
    "New_Rate = int(input(\" 請輸入新匯率 = \"))"
   ]
  },
  {
   "cell_type": "code",
   "execution_count": 2,
   "metadata": {},
   "outputs": [
    {
     "name": "stdout",
     "output_type": "stream",
     "text": [
      "-14.285714285714285\n"
     ]
    }
   ],
   "source": [
    "Change = ((Old_Rate - New_Rate) / New_Rate) * 100\n",
    "print(Change)"
   ]
  },
  {
   "cell_type": "code",
   "execution_count": 3,
   "metadata": {},
   "outputs": [
    {
     "name": "stdout",
     "output_type": "stream",
     "text": [
      " 貨幣升貶值幅度 = -14.29% 表示  貶值\n"
     ]
    }
   ],
   "source": [
    "if Change > 0 :\n",
    "    Result = \" 升值\"\n",
    "else :\n",
    "    Result = \" 貶值\"\n",
    "print(\" 貨幣升貶值幅度 = % 4.2f%s 表示 %s\" % (Change, \"%\", Result))"
   ]
  },
  {
   "cell_type": "markdown",
   "metadata": {},
   "source": [
    "# 範例 4-5"
   ]
  },
  {
   "cell_type": "code",
   "execution_count": 1,
   "metadata": {},
   "outputs": [
    {
     "name": "stdout",
     "output_type": "stream",
     "text": [
      " 請輸入舊匯率 = 30\n",
      " 請輸入新匯率 = 30\n"
     ]
    }
   ],
   "source": [
    "Old_Rate = int(input(\" 請輸入舊匯率 = \"))\n",
    "New_Rate = int(input(\" 請輸入新匯率 = \"))"
   ]
  },
  {
   "cell_type": "code",
   "execution_count": 2,
   "metadata": {},
   "outputs": [
    {
     "name": "stdout",
     "output_type": "stream",
     "text": [
      "0.0\n"
     ]
    }
   ],
   "source": [
    "Change = ((Old_Rate - New_Rate) / New_Rate) * 100\n",
    "print(Change)"
   ]
  },
  {
   "cell_type": "code",
   "execution_count": 3,
   "metadata": {},
   "outputs": [
    {
     "name": "stdout",
     "output_type": "stream",
     "text": [
      " 貨幣升貶值幅度 =  0.00% 表示  平盤\n"
     ]
    }
   ],
   "source": [
    "if Change > 0 :\n",
    "    Result = \" 升值\"\n",
    "elif Change == 0 :\n",
    "    Result = \" 平盤\"\n",
    "else:\n",
    "    Result = \" 貶值\"\n",
    "print(\" 貨幣升貶值幅度 = % 4.2f%s 表示 %s\" % (Change, \"%\",Result))"
   ]
  },
  {
   "cell_type": "markdown",
   "metadata": {},
   "source": [
    "# 範例 4-7"
   ]
  },
  {
   "cell_type": "code",
   "execution_count": 1,
   "metadata": {},
   "outputs": [
    {
     "name": "stdout",
     "output_type": "stream",
     "text": [
      " 請輸入體重( 公斤) = 85\n",
      " 請輸入身高( 公分) = 165\n"
     ]
    }
   ],
   "source": [
    "Weight_kg = int(input(\" 請輸入體重( 公斤) = \"))\n",
    "Height_m = float(input(\" 請輸入身高( 公分) = \")) / 100"
   ]
  },
  {
   "cell_type": "code",
   "execution_count": 2,
   "metadata": {},
   "outputs": [
    {
     "name": "stdout",
     "output_type": "stream",
     "text": [
      " 您的BMI = 31.22  中度肥胖\n"
     ]
    }
   ],
   "source": [
    "BMI = Weight_kg / (Height_m ** 2)\n",
    "if BMI < 18.5:\n",
    "    print(\" 您的BMI = %5.2f %s\" %(BMI, \" 體重過輕\"))\n",
    "elif BMI < 24:\n",
    "    print(\" 您的BMI = %5.2f %s\" %(BMI, \" 標準體重\"))\n",
    "elif BMI < 27:\n",
    "    print(\" 您的BMI = %5.2f %s\" %(BMI, \" 體重過重\"))\n",
    "elif BMI < 30:\n",
    "    print(\" 您的BMI = %5.2f %s\" %(BMI, \" 輕度肥胖\"))\n",
    "elif BMI < 35:\n",
    "    print(\" 您的BMI = %5.2f %s\" %(BMI, \" 中度肥胖\"))\n",
    "else:\n",
    "    print(\" 您的BMI = %5.2f %s\" %(BMI, \" 重度肥胖\"))"
   ]
  },
  {
   "cell_type": "markdown",
   "metadata": {},
   "source": [
    "# 範例 4-9"
   ]
  },
  {
   "cell_type": "code",
   "execution_count": 1,
   "metadata": {},
   "outputs": [
    {
     "name": "stdout",
     "output_type": "stream",
     "text": [
      " 請輸入西元年份 = 2100\n"
     ]
    }
   ],
   "source": [
    "Year = int (input(\" 請輸入西元年份 = \"))"
   ]
  },
  {
   "cell_type": "code",
   "execution_count": 2,
   "metadata": {},
   "outputs": [
    {
     "name": "stdout",
     "output_type": "stream",
     "text": [
      "2100 年為 平年\n"
     ]
    }
   ],
   "source": [
    "if (Year % 400) == 0: # 條件1\n",
    "    print(\"%d 為%s\" % (Year, \" 閏年\"))\n",
    "else:\n",
    "    if ((Year % 4) == 0) and ((Year % 100) != 0): # 條件2\n",
    "        print(\"%d 為%s\" % (Year, \" 閏年\"))\n",
    "    else:\n",
    "        print(\"%d 年為%s\" % (Year, \" 平年\"))"
   ]
  }
 ],
 "metadata": {
  "kernelspec": {
   "display_name": "Python 3",
   "language": "python",
   "name": "python3"
  },
  "language_info": {
   "codemirror_mode": {
    "name": "ipython",
    "version": 3
   },
   "file_extension": ".py",
   "mimetype": "text/x-python",
   "name": "python",
   "nbconvert_exporter": "python",
   "pygments_lexer": "ipython3",
   "version": "3.8.3"
  }
 },
 "nbformat": 4,
 "nbformat_minor": 4
}

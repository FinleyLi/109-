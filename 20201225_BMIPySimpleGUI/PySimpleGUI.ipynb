{
 "cells": [
  {
   "cell_type": "code",
   "execution_count": 1,
   "metadata": {},
   "outputs": [
    {
     "name": "stdout",
     "output_type": "stream",
     "text": [
      "Collecting PySimpleGUI\n",
      "  Downloading PySimpleGUI-4.32.1-py3-none-any.whl (236 kB)\n",
      "Installing collected packages: PySimpleGUI\n",
      "Successfully installed PySimpleGUI-4.32.1\n"
     ]
    }
   ],
   "source": [
    "!pip install PySimpleGUI"
   ]
  },
  {
   "cell_type": "code",
   "execution_count": 6,
   "metadata": {},
   "outputs": [
    {
     "name": "stdout",
     "output_type": "stream",
     "text": [
      "Hello None ! Thanks for trying PySimpleGUI\n"
     ]
    }
   ],
   "source": [
    "# -*- coding: utf-8 -*-\n",
    "\"\"\"\n",
    "Created on Fri Oct 23 09:02:01 2020\n",
    "\n",
    "@author: user\n",
    "\"\"\"\n",
    "# pip install PySimpleGUI\n",
    "import PySimpleGUI as sg                        # Part 1 - The import\n",
    "\n",
    "# Define the window's contents\n",
    "layout = [  [sg.Text(\"What's your name?\")],     # Part 2 - The Layout\n",
    "            [sg.Input()],\n",
    "            [sg.Button('Ok')] ]\n",
    "\n",
    "# Create the window\n",
    "window = sg.Window('Window Title', layout)      # Part 3 - Window Defintion\n",
    "\n",
    "# Display and interact with the Window\n",
    "event, values = window.read()                   # Part 4 - Event loop or Window.read call\n",
    "\n",
    "# Do something with the information gathered\n",
    "print('Hello', values[0], \"! Thanks for trying PySimpleGUI\")\n",
    "\n",
    "# Finish up by removing from the screen\n",
    "window.close()                                  # Part 5 - Close the Window"
   ]
  },
  {
   "cell_type": "code",
   "execution_count": null,
   "metadata": {},
   "outputs": [],
   "source": []
  },
  {
   "cell_type": "code",
   "execution_count": null,
   "metadata": {},
   "outputs": [],
   "source": []
  }
 ],
 "metadata": {
  "kernelspec": {
   "display_name": "Python 3",
   "language": "python",
   "name": "python3"
  },
  "language_info": {
   "codemirror_mode": {
    "name": "ipython",
    "version": 3
   },
   "file_extension": ".py",
   "mimetype": "text/x-python",
   "name": "python",
   "nbconvert_exporter": "python",
   "pygments_lexer": "ipython3",
   "version": "3.8.3"
  }
 },
 "nbformat": 4,
 "nbformat_minor": 4
}
